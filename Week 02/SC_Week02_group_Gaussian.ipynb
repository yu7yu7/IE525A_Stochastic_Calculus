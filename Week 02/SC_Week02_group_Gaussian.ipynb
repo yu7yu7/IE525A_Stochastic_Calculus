{
 "cells": [
  {
   "cell_type": "markdown",
   "metadata": {
    "id": "kj2CpetkeU0-"
   },
   "source": [
    "<img src=\"https://news.illinois.edu/files/6367/543635/116641.jpg\" alt=\"University of Illinois\" width=\"250\"/>\n",
    "\n",
    "# HW: Stochastics: Gaussian\n",
    "\n",
    "## due 2023-02-06 ##\n",
    "\n",
    "HW submission by group (up to 4 people)\n",
    "* Yu-Ching Liao <ycliao3@illinois.edu>\n",
    "* Shuxiang Lei <lei14@illinois.edu>\n",
    "* Zi Wang <wang558@illinois.edu>\n",
    "* Hariharan Manickam <hm32@illinois.edu>\n",
    "\n",
    "Note:  Anaconda Python <https://www.anaconda.com/distribution/> is a strong implementation of python."
   ]
  },
  {
   "cell_type": "markdown",
   "metadata": {
    "id": "Z8vUR0i1eU1Y"
   },
   "source": [
    "## imports and graphics configurations"
   ]
  },
  {
   "cell_type": "code",
   "execution_count": 25,
   "metadata": {
    "ExecuteTime": {
     "end_time": "2023-02-01T17:59:15.631776Z",
     "start_time": "2023-02-01T17:59:15.627885Z"
    },
    "id": "RFQo5jJzeU1c"
   },
   "outputs": [],
   "source": [
    "import numpy\n",
    "import pandas\n",
    "import time\n",
    "import random\n",
    "import matplotlib\n",
    "#%matplotlib notebook\n",
    "import matplotlib.pyplot as plt\n",
    "import scipy.stats\n",
    "import matplotlib.offsetbox as offsetbox\n",
    "from matplotlib.ticker import StrMethodFormatter\n",
    "\n",
    "import warnings\n",
    "warnings.filterwarnings(\"ignore\")"
   ]
  },
  {
   "cell_type": "code",
   "execution_count": 26,
   "metadata": {
    "ExecuteTime": {
     "end_time": "2023-02-01T17:59:16.676023Z",
     "start_time": "2023-02-01T17:59:16.673203Z"
    },
    "id": "Bg6T34ldeU1f"
   },
   "outputs": [],
   "source": [
    "#for some reason, this needs to be in a separate cell\n",
    "params={\n",
    "    \"font.size\":15,\n",
    "    \"lines.linewidth\":5,\n",
    "}\n",
    "plt.rcParams.update(params)"
   ]
  },
  {
   "cell_type": "markdown",
   "metadata": {
    "id": "4q5KdLzveU1m"
   },
   "source": [
    "# **Gaussian Random Variables** #"
   ]
  },
  {
   "cell_type": "markdown",
   "metadata": {
    "id": "1oLbFOoNeU1p"
   },
   "source": [
    "**Gaussian Moments:** Let $\\eta$ be a standard Gaussian random variable.  By simulation, compute \n",
    "* $\\mathbb{E}\\left[\\exp\\left[\\tfrac16\\eta\\right]\\right]$\n",
    "* $\\mathbb{E}[\\eta^4]$"
   ]
  },
  {
   "cell_type": "markdown",
   "metadata": {},
   "source": [
    "## Basic Import "
   ]
  },
  {
   "cell_type": "code",
   "execution_count": 27,
   "metadata": {
    "ExecuteTime": {
     "end_time": "2023-02-01T17:59:19.384136Z",
     "start_time": "2023-02-01T17:59:19.381430Z"
    }
   },
   "outputs": [],
   "source": [
    "from numpy import exp"
   ]
  },
  {
   "cell_type": "markdown",
   "metadata": {},
   "source": [
    "## $\\mathbb{E}\\left[\\exp\\left[\\tfrac16\\eta\\right]\\right] ?$"
   ]
  },
  {
   "cell_type": "code",
   "execution_count": 28,
   "metadata": {
    "ExecuteTime": {
     "end_time": "2023-02-01T17:59:21.999176Z",
     "start_time": "2023-02-01T17:59:21.949912Z"
    }
   },
   "outputs": [
    {
     "name": "stdout",
     "output_type": "stream",
     "text": [
      "Theoratical Value:  1.0139857875915788\n",
      "Simiulated Value:  1.0140449234748357\n"
     ]
    }
   ],
   "source": [
    "N = 1000000\n",
    "ŋ = np.random.normal(size = N)\n",
    "θ = 1/6 \n",
    "\n",
    "def Theo_1(θ):\n",
    "    return exp((θ)**2 / 2)\n",
    "\n",
    "def Simul_1(θ):\n",
    "    return exp((θ)*ŋ).mean()\n",
    "\n",
    "print(\"Theoratical Value: \", Theo_1(θ))\n",
    "print(\"Simiulated Value: \", Simul_1(θ))"
   ]
  },
  {
   "cell_type": "markdown",
   "metadata": {},
   "source": [
    "## $\\mathbb{E}[\\eta^4] ?$"
   ]
  },
  {
   "cell_type": "code",
   "execution_count": 29,
   "metadata": {
    "ExecuteTime": {
     "end_time": "2023-02-01T17:59:24.555421Z",
     "start_time": "2023-02-01T17:59:24.139347Z"
    }
   },
   "outputs": [
    {
     "name": "stdout",
     "output_type": "stream",
     "text": [
      "Theoratical Value:  3.0\n",
      "Simiulated Value:  3.0000852969544036\n"
     ]
    }
   ],
   "source": [
    "N = 10000000\n",
    "ŋ = np.random.normal(size = N)\n",
    "times = 4\n",
    "\n",
    "def Theo_2(times):\n",
    "    if times % 2 ==0:\n",
    "        nom = np.math.factorial(times)\n",
    "        denom = 2**(times/2) * np.math.factorial(times/2)\n",
    "        return nom/denom\n",
    "    else: \n",
    "        return 0\n",
    "\n",
    "def Simul_2(times):\n",
    "    return (ŋ**4).mean()\n",
    "\n",
    "print(\"Theoratical Value: \", Theo_2(times))\n",
    "print(\"Simiulated Value: \", Simul_2(times))"
   ]
  }
 ],
 "metadata": {
  "celltoolbar": "Raw Cell Format",
  "colab": {
   "provenance": []
  },
  "kernelspec": {
   "display_name": "Python 3 (ipykernel)",
   "language": "python",
   "name": "python3"
  },
  "language_info": {
   "codemirror_mode": {
    "name": "ipython",
    "version": 3
   },
   "file_extension": ".py",
   "mimetype": "text/x-python",
   "name": "python",
   "nbconvert_exporter": "python",
   "pygments_lexer": "ipython3",
   "version": "3.9.13"
  },
  "toc": {
   "base_numbering": 1,
   "nav_menu": {},
   "number_sections": true,
   "sideBar": true,
   "skip_h1_title": false,
   "title_cell": "Table of Contents",
   "title_sidebar": "Contents",
   "toc_cell": false,
   "toc_position": {},
   "toc_section_display": true,
   "toc_window_display": false
  },
  "varInspector": {
   "cols": {
    "lenName": 16,
    "lenType": 16,
    "lenVar": 40
   },
   "kernels_config": {
    "python": {
     "delete_cmd_postfix": "",
     "delete_cmd_prefix": "del ",
     "library": "var_list.py",
     "varRefreshCmd": "print(var_dic_list())"
    },
    "r": {
     "delete_cmd_postfix": ") ",
     "delete_cmd_prefix": "rm(",
     "library": "var_list.r",
     "varRefreshCmd": "cat(var_dic_list()) "
    }
   },
   "types_to_exclude": [
    "module",
    "function",
    "builtin_function_or_method",
    "instance",
    "_Feature"
   ],
   "window_display": false
  }
 },
 "nbformat": 4,
 "nbformat_minor": 1
}
