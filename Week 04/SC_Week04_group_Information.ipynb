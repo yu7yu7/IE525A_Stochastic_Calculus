{
 "cells": [
  {
   "cell_type": "markdown",
   "metadata": {
    "id": "kj2CpetkeU0-"
   },
   "source": [
    "<img src=\"https://news.illinois.edu/files/6367/543635/116641.jpg\" alt=\"University of Illinois\" width=\"250\"/>\n",
    "\n",
    "# HW: Stochastics: Information\n",
    "\n",
    "### due 2023-02-14 ###\n",
    "\n",
    "HW submission by group (up to 4 people)\n",
    "* Yu-Ching Liao <ycliao3@illinois.edu>\n",
    "* Hariharan Manickam <hm32@illinois.edu>\n",
    "* Ling Liu <liu319@illinois.edu>\n",
    "* Kapadia, Nimit Himanshu <nimithk2@illinois.edu>\n"
   ]
  },
  {
   "cell_type": "markdown",
   "metadata": {
    "id": "Z8vUR0i1eU1Y"
   },
   "source": [
    "## imports and graphics configurations"
   ]
  },
  {
   "cell_type": "code",
   "execution_count": 1,
   "metadata": {
    "ExecuteTime": {
     "end_time": "2023-02-07T01:35:58.920242Z",
     "start_time": "2023-02-07T01:35:55.634644Z"
    },
    "id": "RFQo5jJzeU1c"
   },
   "outputs": [],
   "source": [
    "import numpy as np\n",
    "import pandas as pd\n",
    "import time\n",
    "import random\n",
    "import matplotlib\n",
    "#%matplotlib notebook\n",
    "import matplotlib.pyplot as plt\n",
    "import scipy.stats\n",
    "import matplotlib.offsetbox as offsetbox\n",
    "from matplotlib.ticker import StrMethodFormatter\n",
    "from numpy import exp, log, sqrt \n",
    "import scipy\n",
    "from scipy.stats import binom\n",
    "\n",
    "import warnings\n",
    "warnings.filterwarnings(\"ignore\")\n",
    "\n",
    "def saver(fname):\n",
    "    plt.savefig(fname+\".png\",bbox_inches=\"tight\")\n",
    "    \n",
    "def legend(pos=\"bottom\",ncol=3):\n",
    "    if pos==\"bottom\":\n",
    "        plt.legend(bbox_to_anchor=(0.5,-0.2), loc='upper center',facecolor=\"lightgray\",ncol=ncol)\n",
    "    elif pos==\"side\":\n",
    "        plt.legend(bbox_to_anchor=(1.1,0.5), loc='center left',facecolor=\"lightgray\",ncol=1)\n",
    "        \n",
    "def textbox(txt,fname=None):\n",
    "    plt.figure(figsize=(1,1))\n",
    "    plt.gca().add_artist(offsetbox.AnchoredText(\"\\n\".join(txt), loc=\"center\",prop=dict(size=30)))\n",
    "    plt.axis('off')\n",
    "    if fname is not None:\n",
    "        saver(fname)\n",
    "    plt.show()\n",
    "    plt.close()\n"
   ]
  },
  {
   "cell_type": "code",
   "execution_count": 2,
   "metadata": {
    "ExecuteTime": {
     "end_time": "2023-02-07T01:36:03.641696Z",
     "start_time": "2023-02-07T01:36:03.638788Z"
    },
    "id": "Bg6T34ldeU1f"
   },
   "outputs": [],
   "source": [
    "#for some reason, this needs to be in a separate cell\n",
    "params={\n",
    "    \"font.size\":15,\n",
    "    \"lines.linewidth\":5,\n",
    "}\n",
    "plt.rcParams.update(params)"
   ]
  },
  {
   "cell_type": "markdown",
   "metadata": {
    "id": "l2S4qkokeU13"
   },
   "source": [
    "# **Information** #"
   ]
  },
  {
   "cell_type": "markdown",
   "metadata": {},
   "source": [
    "## Problem 1 "
   ]
  },
  {
   "cell_type": "markdown",
   "metadata": {
    "id": "j8jQ4hFReU14"
   },
   "source": [
    "**Conditional Law:** By simulation, compute\n",
    "* $\\frac{1}{0.01}P\\{W_5>6|2<W_3<2.01\\}$"
   ]
  },
  {
   "cell_type": "code",
   "execution_count": 15,
   "metadata": {
    "ExecuteTime": {
     "end_time": "2023-02-07T01:37:54.087390Z",
     "start_time": "2023-02-07T01:37:52.152719Z"
    }
   },
   "outputs": [],
   "source": [
    "T = 5\n",
    "N_samples = 100000\n",
    "SEED = 0\n",
    "δ = 1e-2\n",
    "index = np.arange(0, T, step=δ)\n",
    "movement = 2 * scipy.stats.bernoulli.rvs(\n",
    "    0.5, size=(len(index), N_samples), random_state=SEED) - 1\n",
    "movement[0, :] = 0  #force RW to start at zero\n",
    "position = pd.DataFrame(movement, index=index) * np.sqrt(δ)\n",
    "S = position.cumsum(axis='index')"
   ]
  },
  {
   "cell_type": "code",
   "execution_count": 16,
   "metadata": {
    "ExecuteTime": {
     "end_time": "2023-02-07T01:38:08.188388Z",
     "start_time": "2023-02-07T01:37:58.692726Z"
    },
    "scrolled": true
   },
   "outputs": [
    {
     "name": "stdout",
     "output_type": "stream",
     "text": [
      "The computational value will be 0.20842017507294708\n"
     ]
    }
   ],
   "source": [
    "count = 0\n",
    "count_cond = 0\n",
    "for i in range(N_samples):\n",
    "    W3 = S[i].loc[S[i].index == 3.0].values[0]\n",
    "    if (W3 < 2.01) and (W3 > 2):\n",
    "        count_cond += 1\n",
    "        W5 = S[i].loc[S[i].index == 4.99].values[0]\n",
    "        if W5 > 6:\n",
    "            count += 1\n",
    "print(\"The computational value will be\", (count/count_cond)*100)"
   ]
  },
  {
   "cell_type": "markdown",
   "metadata": {},
   "source": [
    "## Problem 2 "
   ]
  },
  {
   "cell_type": "markdown",
   "metadata": {},
   "source": [
    "* $\\frac{1}{0.01}P\\{W_5>6|2<W_3<2.01, W_2<1.8\\}$"
   ]
  },
  {
   "cell_type": "code",
   "execution_count": 17,
   "metadata": {
    "ExecuteTime": {
     "end_time": "2023-02-07T01:38:29.590632Z",
     "start_time": "2023-02-07T01:38:10.558137Z"
    }
   },
   "outputs": [
    {
     "name": "stdout",
     "output_type": "stream",
     "text": [
      "The computational value will be 0.18126888217522658\n"
     ]
    }
   ],
   "source": [
    "count = 0\n",
    "count_cond = 0\n",
    "for i in range(N_samples):\n",
    "    W2 = S[i].loc[S[i].index == 2.0].values[0]\n",
    "    W3 = S[i].loc[S[i].index == 3.0].values[0]\n",
    "    if (W3 < 2.01) and (W3 > 2) and (W2 < 1.8):\n",
    "        count_cond += 1\n",
    "        W5 = S[i].loc[S[i].index == 4.99].values[0]\n",
    "        if W5 > 6:\n",
    "            count += 1\n",
    "print(\"The computational value will be\", (count/count_cond)*100)"
   ]
  },
  {
   "cell_type": "code",
   "execution_count": null,
   "metadata": {},
   "outputs": [],
   "source": []
  }
 ],
 "metadata": {
  "celltoolbar": "Raw Cell Format",
  "colab": {
   "provenance": []
  },
  "kernelspec": {
   "display_name": "Python 3 (ipykernel)",
   "language": "python",
   "name": "python3"
  },
  "language_info": {
   "codemirror_mode": {
    "name": "ipython",
    "version": 3
   },
   "file_extension": ".py",
   "mimetype": "text/x-python",
   "name": "python",
   "nbconvert_exporter": "python",
   "pygments_lexer": "ipython3",
   "version": "3.9.13"
  },
  "toc": {
   "base_numbering": 1,
   "nav_menu": {},
   "number_sections": true,
   "sideBar": true,
   "skip_h1_title": false,
   "title_cell": "Table of Contents",
   "title_sidebar": "Contents",
   "toc_cell": false,
   "toc_position": {},
   "toc_section_display": true,
   "toc_window_display": false
  },
  "varInspector": {
   "cols": {
    "lenName": 16,
    "lenType": 16,
    "lenVar": 40
   },
   "kernels_config": {
    "python": {
     "delete_cmd_postfix": "",
     "delete_cmd_prefix": "del ",
     "library": "var_list.py",
     "varRefreshCmd": "print(var_dic_list())"
    },
    "r": {
     "delete_cmd_postfix": ") ",
     "delete_cmd_prefix": "rm(",
     "library": "var_list.r",
     "varRefreshCmd": "cat(var_dic_list()) "
    }
   },
   "types_to_exclude": [
    "module",
    "function",
    "builtin_function_or_method",
    "instance",
    "_Feature"
   ],
   "window_display": false
  }
 },
 "nbformat": 4,
 "nbformat_minor": 1
}
